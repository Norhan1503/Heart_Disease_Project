{
 "cells": [
  {
   "cell_type": "markdown",
   "id": "168ab5f2-19c9-4eb2-bb4f-c9ad1ff38ad6",
   "metadata": {},
   "source": [
    "# Hyper parameter tuning"
   ]
  },
  {
   "cell_type": "code",
   "execution_count": 8,
   "id": "1b3e2218-4f88-42dd-acdc-5e3282422170",
   "metadata": {},
   "outputs": [],
   "source": [
    "from sklearn.model_selection import GridSearchCV, RandomizedSearchCV, train_test_split\n",
    "from sklearn.linear_model import LogisticRegression\n",
    "from sklearn.tree import DecisionTreeClassifier\n",
    "from sklearn.ensemble import RandomForestClassifier\n",
    "from sklearn.svm import SVC\n",
    "from sklearn.metrics import accuracy_score, precision_score, recall_score, f1_score, roc_auc_score\n",
    "import numpy as np\n",
    "import nbimporter \n",
    "from supervised_learning import models,results,X_train, X_test, y_train, y_test"
   ]
  },
  {
   "cell_type": "markdown",
   "id": "c5cb1a7a-a551-40ed-8699-c0a99556d990",
   "metadata": {},
   "source": [
    "##  Applying GridSearchCV & RandomizedSearchCV"
   ]
  },
  {
   "cell_type": "code",
   "execution_count": 10,
   "id": "30858934-209b-416f-9a9e-8c18ac7a4677",
   "metadata": {},
   "outputs": [
    {
     "name": "stdout",
     "output_type": "stream",
     "text": [
      "=== Baseline Results ===\n",
      "\n",
      "Logistic Regression: {'Accuracy': 0.9344262295081968, 'Precision': 0.9285714285714286, 'Recall': 0.9285714285714286, 'F1-score': 0.9285714285714286, 'AUC': 0.9718614718614719}\n",
      "\n",
      "Decision Tree: {'Accuracy': 0.8360655737704918, 'Precision': 0.78125, 'Recall': 0.8928571428571429, 'F1-score': 0.8333333333333334, 'AUC': 0.8403679653679653}\n",
      "\n",
      "Random Forest: {'Accuracy': 0.8852459016393442, 'Precision': 0.8620689655172413, 'Recall': 0.8928571428571429, 'F1-score': 0.8771929824561403, 'AUC': 0.9632034632034632}\n",
      "\n",
      "SVM: {'Accuracy': 0.9344262295081968, 'Precision': 0.9285714285714286, 'Recall': 0.9285714285714286, 'F1-score': 0.9285714285714286, 'AUC': 0.9761904761904763}\n"
     ]
    }
   ],
   "source": [
    "#  Evaluate baseline models(Models we already trained before)\n",
    "print(\"=== Baseline Results ===\")\n",
    "\n",
    "for model, scores in results.items():\n",
    "    print(f\"\\n{model}: {scores}\")\n"
   ]
  },
  {
   "cell_type": "code",
   "execution_count": 5,
   "id": "0815126e-6334-400c-b93b-6d2b4f1aa020",
   "metadata": {},
   "outputs": [],
   "source": [
    "#  Define hyperparameter grids\n",
    "\n",
    "param_grids = {\n",
    "    \"Logistic Regression\": {\n",
    "        \"C\": [0.01, 0.1, 1, 10],\n",
    "        \"penalty\": [\"l2\"],   \n",
    "        \"solver\": [\"lbfgs\", \"liblinear\"]\n",
    "    },\n",
    "    \"Decision Tree\": {\n",
    "        \"max_depth\": [None, 5, 10, 20],\n",
    "        \"min_samples_split\": [2, 5, 10],\n",
    "        \"criterion\": [\"gini\", \"entropy\"]\n",
    "    },\n",
    "    \"Random Forest\": {\n",
    "        \"n_estimators\": [50, 100, 200],\n",
    "        \"max_depth\": [None, 5, 10, 20],\n",
    "        \"min_samples_split\": [2, 5, 10]\n",
    "    },\n",
    "    \"SVM\": {\n",
    "        \"C\": [0.1, 1, 10],\n",
    "        \"kernel\": [\"linear\", \"rbf\", \"poly\"],\n",
    "        \"gamma\": [\"scale\", \"auto\"]\n",
    "    }\n",
    "}\n"
   ]
  },
  {
   "cell_type": "code",
   "execution_count": 16,
   "id": "fa2325a4-2cd8-4cd6-bf18-1e5455172bab",
   "metadata": {},
   "outputs": [
    {
     "name": "stdout",
     "output_type": "stream",
     "text": [
      "\n",
      "--- Logistic Regression ---\n",
      "Best Params (GridSearch): {'C': 0.1, 'penalty': 'l2', 'solver': 'lbfgs'}\n",
      "\n",
      "--- Decision Tree ---\n",
      "Best Params (GridSearch): {'criterion': 'gini', 'max_depth': 5, 'min_samples_split': 10}\n",
      "\n",
      "--- Random Forest ---\n",
      "Best Params (GridSearch): {'max_depth': None, 'min_samples_split': 2, 'n_estimators': 200}\n",
      "\n",
      "--- SVM ---\n",
      "Best Params (GridSearch): {'C': 1, 'gamma': 'auto', 'kernel': 'rbf'}\n",
      "\n",
      "=== Optimized Results ===\n",
      "\n",
      "Logistic Regression: {'Accuracy': 0.9508196721311475, 'Precision': 0.9629629629629629, 'Recall': 0.9285714285714286, 'F1': 0.9454545454545454, 'AUC': 0.9761904761904762}\n",
      "\n",
      "Decision Tree: {'Accuracy': 0.9016393442622951, 'Precision': 0.8928571428571429, 'Recall': 0.8928571428571429, 'F1': 0.8928571428571429, 'AUC': 0.8885281385281386}\n",
      "\n",
      "Random Forest: {'Accuracy': 0.8688524590163934, 'Precision': 0.8333333333333334, 'Recall': 0.8928571428571429, 'F1': 0.8620689655172413, 'AUC': 0.961038961038961}\n",
      "\n",
      "SVM: {'Accuracy': 0.9344262295081968, 'Precision': 0.9285714285714286, 'Recall': 0.9285714285714286, 'F1': 0.9285714285714286, 'AUC': 0.9751082251082251}\n"
     ]
    }
   ],
   "source": [
    "# GridSearchCV + RandomizedSearchCV\n",
    "\n",
    "optimized_results = {}\n",
    "\n",
    "for name, model in models.items():\n",
    "    print(f\"\\n--- {name} ---\")\n",
    "\n",
    "    # GridSearchCV\n",
    "    grid = GridSearchCV(model, param_grids[name], cv=5, scoring=\"accuracy\", n_jobs=-1)\n",
    "    grid.fit(X_train, y_train)\n",
    "    best_grid = grid.best_estimator_\n",
    "  \n",
    "    # RandomizedSearchCV\n",
    "    rand = RandomizedSearchCV(model, param_distributions=param_grids[name],\n",
    "                              n_iter=5, cv=5, scoring=\"accuracy\", random_state=42, n_jobs=-1)\n",
    "    rand.fit(X_train, y_train)\n",
    "    best_rand = rand.best_estimator_\n",
    "\n",
    "    # Choose best between Grid and Random\n",
    "    if grid.best_score_ >= rand.best_score_:\n",
    "        best_model = best_grid\n",
    "        print(\"Best Params (GridSearch):\", grid.best_params_)\n",
    "    else:\n",
    "        best_model = best_rand\n",
    "        print(\"Best Params (RandomizedSearch):\", rand.best_params_)\n",
    "\n",
    "    # Retrain on train set\n",
    "    best_model.fit(X_train, y_train)\n",
    "    y_pred = best_model.predict(X_test)\n",
    "    y_proba = best_model.predict_proba(X_test)[:, 1] if hasattr(best_model, \"predict_proba\") else None\n",
    "    auc = roc_auc_score(y_test, y_proba) if y_proba is not None else None\n",
    "\n",
    "    optimized_results[name] = {\n",
    "        \"Accuracy\": accuracy_score(y_test, y_pred),\n",
    "        \"Precision\": precision_score(y_test, y_pred),\n",
    "        \"Recall\": recall_score(y_test, y_pred),\n",
    "        \"F1\": f1_score(y_test, y_pred),\n",
    "        \"AUC\": auc\n",
    "    }\n",
    "    \n",
    "\n",
    "print(\"\\n=== Optimized Results ===\")\n",
    "for model, scores in optimized_results.items():\n",
    "    print(f\"\\n{model}: {scores}\")"
   ]
  },
  {
   "cell_type": "code",
   "execution_count": null,
   "id": "886d8599-e167-460d-a35f-de161ebfa667",
   "metadata": {},
   "outputs": [],
   "source": []
  }
 ],
 "metadata": {
  "kernelspec": {
   "display_name": "Python 3 (ipykernel)",
   "language": "python",
   "name": "python3"
  },
  "language_info": {
   "codemirror_mode": {
    "name": "ipython",
    "version": 3
   },
   "file_extension": ".py",
   "mimetype": "text/x-python",
   "name": "python",
   "nbconvert_exporter": "python",
   "pygments_lexer": "ipython3",
   "version": "3.12.7"
  }
 },
 "nbformat": 4,
 "nbformat_minor": 5
}
